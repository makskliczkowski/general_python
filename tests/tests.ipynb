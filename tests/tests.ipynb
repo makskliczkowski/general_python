{
 "cells": [
  {
   "cell_type": "code",
   "execution_count": 4,
   "metadata": {},
   "outputs": [],
   "source": [
    "import os\n",
    "import sys\n",
    "sys.path.append('..')\n",
    "import common\n",
    "import lattices\n"
   ]
  },
  {
   "cell_type": "markdown",
   "metadata": {},
   "source": [
    "# Binary \n",
    "\n",
    "The `BinaryMod` module contains functions related to binary operations. The `test_binary_functions()` method tests the following functionalities:\n",
    "- Conversion of integers to binary strings\n",
    "- Conversion of binary strings to integers\n",
    "- Bitwise operations such as AND, OR, XOR, and NOT\n",
    "- Shifting operations (left shift and right shift)"
   ]
  },
  {
   "cell_type": "code",
   "execution_count": 2,
   "metadata": {},
   "outputs": [
    {
     "name": "stdout",
     "output_type": "stream",
     "text": [
      "==================================================\n",
      "             TESTING BINARY FUNCTIONS             \n",
      "==================================================\n",
      "Random integer n = 6 (binary: 000110)\n",
      "--------------------------------------------------\n",
      "Test 1: Extract bits using mask\n",
      "  Input n    : 000110\n",
      "  Mask       : 001011\n",
      "  Extracted  : 000010 (2)\n",
      "  Time       : 0.000003 seconds\n",
      "--------------------------------------------------\n",
      "Test 2: Extract leftmost and rightmost 4 bits\n",
      "  Input n         : 000110\n",
      "  Leftmost 4 bits : 0001\n",
      "  Rightmost 4 bits: 0110\n",
      "  Time            : 0.000002 seconds\n",
      "--------------------------------------------------\n",
      "Test 3: Prepare mask from positions\n",
      "  Positions          : [0, 1, 3]\n",
      "  Prepared Mask (4b) : 1101\n",
      "  Time               : 0.000002 seconds\n",
      "--------------------------------------------------\n",
      "Test 4: Prepare inverted mask from positions\n",
      "  Positions             : [0, 1, 3]\n",
      "  Inverted Mask (4 bits): 1011\n",
      "  Time                  : 0.000001 seconds\n",
      "--------------------------------------------------\n",
      "Test 5: Check if n is a power of two\n",
      "  Input n : 000110\n",
      "  Result  : False\n",
      "  Time    : 0.000001 seconds\n",
      "--------------------------------------------------\n",
      "Test 6: Reverse the bits\n",
      "  Input n  : 000110\n",
      "  Reversed : 011000\n",
      "  Time     : 0.000006 seconds\n",
      "--------------------------------------------------\n",
      "Test 7: Check specific bit\n",
      "  Input n          : 000110\n",
      "  Bit position (0-indexed from right): 2\n",
      "  Bit value        : True\n",
      "  Time             : 0.000002 seconds\n",
      "--------------------------------------------------\n",
      "Test 8: Convert integer to base representation\n",
      "  Input n           : 000110\n",
      "  Base representation: [0 0 0 1 1 0] (type: <class 'jaxlib.xla_extension.ArrayImpl'>)\n",
      "  Time              : 0.056092 seconds\n",
      "--------------------------------------------------\n",
      "Test 9: Convert base representation back to integer\n",
      "  Base representation : [0 0 0 1 1 0]\n",
      "  Recovered integer : 6\n",
      "  Time              : 0.036979 seconds\n",
      "--------------------------------------------------\n",
      "Test 10: Flip all bits\n",
      "  Input n : 000110\n",
      "  Flipped : 111001\n",
      "  Time    : 0.000002 seconds\n",
      "--------------------------------------------------\n",
      "Test 11: Flip a specific bit in integer\n",
      "  Input n           : 000110\n",
      "  Flipped bit at pos: 2 -> 000010\n",
      "  Time              : 0.000002 seconds\n",
      "--------------------------------------------------\n",
      "Test 12: Flip a specific bit in base representation\n",
      "  Input base rep    : [0 0 0 1 1 0]\n",
      "  Flipped bit at pos: 2 -> [0 0 0 1 1 0]\n",
      "  Time              : 0.458444 seconds\n",
      "--------------------------------------------------\n",
      "Test 13: Rotate left (integer)\n",
      "  Input n       : 000110\n",
      "  Rotated left  : 001100\n",
      "  Time          : 0.000003 seconds\n",
      "--------------------------------------------------\n",
      "Test 14: Rotate left (base representation)\n",
      "  Input base rep: [0 0 0 1 1 0]\n",
      "  Rotated left  : [0 0 1 1 0 0]\n",
      "  Time          : 0.081236 seconds\n",
      "--------------------------------------------------\n",
      "Test 15: Rotate right (integer)\n",
      "  Input n        : 000110\n",
      "  Rotated right  : 000011\n",
      "  Time           : 0.000005 seconds\n",
      "--------------------------------------------------\n",
      "Test 16: Rotate right (base representation)\n",
      "  Input base rep : [0 0 0 1 1 0]\n",
      "  Rotated right  : [0 0 0 0 1 1]\n",
      "  Time           : 0.036206 seconds\n",
      "--------------------------------------------------\n",
      "==================================================\n",
      "Total testing time: 0.682438 seconds\n",
      "==================================================\n"
     ]
    }
   ],
   "source": [
    "from common import BinaryMod\n",
    "\n",
    "# Test the binary functions\n",
    "BinaryMod.test_binary_functions(size = 6, spin = False)"
   ]
  },
  {
   "cell_type": "markdown",
   "metadata": {},
   "source": [
    "# Lattice\n"
   ]
  },
  {
   "cell_type": "code",
   "execution_count": null,
   "metadata": {},
   "outputs": [],
   "source": [
    "from lattices import Lattice, run_lattice_tests\n",
    "\n",
    "# Run tests for different configurations\n",
    "# run_lattice_tests(dim=1, lx=10, ly=1, lz=1, bc=lattices.LatticeBC.PBC, typek=\"square\")\n",
    "# run_lattice_tests(dim=2, lx=5, ly=3, lz=1, bc=lattices.LatticeBC.PBC, typek=\"square\")\n",
    "# run_lattice_tests(dim=2, lx=5, ly=5, lz=1, bc=lattices.LatticeBC.OBC, typek=\"square\")\n",
    "# run_lattice_tests(dim=3, lx=3, ly=3, lz=3, bc=lattices.LatticeBC.PBC, typek=\"square\")\n",
    "run_lattice_tests(dim=2, lx=3, ly=2, lz=1, bc=lattices.LatticeBC.PBC, typek=\"honeycomb\")"
   ]
  },
  {
   "cell_type": "code",
   "execution_count": null,
   "metadata": {},
   "outputs": [],
   "source": []
  }
 ],
 "metadata": {
  "kernelspec": {
   "display_name": "base",
   "language": "python",
   "name": "python3"
  },
  "language_info": {
   "codemirror_mode": {
    "name": "ipython",
    "version": 3
   },
   "file_extension": ".py",
   "mimetype": "text/x-python",
   "name": "python",
   "nbconvert_exporter": "python",
   "pygments_lexer": "ipython3",
   "version": "3.12.2"
  }
 },
 "nbformat": 4,
 "nbformat_minor": 2
}
