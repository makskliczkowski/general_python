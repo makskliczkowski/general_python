{
 "cells": [
  {
   "cell_type": "code",
   "execution_count": 1,
   "metadata": {},
   "outputs": [],
   "source": [
    "import os\n",
    "import sys\n",
    "sys.path.append('..')\n",
    "import common"
   ]
  },
  {
   "cell_type": "markdown",
   "metadata": {},
   "source": [
    "# Binary \n",
    "\n",
    "The `BinaryMod` module contains functions related to binary operations. The `test_binary_functions()` method tests the following functionalities:\n",
    "- Conversion of integers to binary strings\n",
    "- Conversion of binary strings to integers\n",
    "- Bitwise operations such as AND, OR, XOR, and NOT\n",
    "- Shifting operations (left shift and right shift)"
   ]
  },
  {
   "cell_type": "code",
   "execution_count": 2,
   "metadata": {},
   "outputs": [
    {
     "name": "stdout",
     "output_type": "stream",
     "text": [
      "Binary representation of 61: 111101\n",
      "1)\n",
      "\tExtracting bits from 111101 using mask 001011\n",
      " \t\t000101 : 5\n",
      "2)\n",
      "\tExtracting leftmost bits from 111101 using size 4\n",
      "\t\t1111\n",
      "\tExtracting rightmost bits from 111101 using size 4\n",
      " \t\t1101\n",
      "3)\n",
      "\tPreparing a mask from positions [0, 1, 3]\n",
      " \t\t1101\n",
      "4)\n",
      "\tPreparing a reversed mask from positions [0, 1, 3]\n",
      " \t\t1011\n",
      "5)\n",
      "\tChecking if 111101 is a power of two\n",
      " \t\tFalse\n",
      "6)\n",
      "\tReversing the bits of 111101\n",
      " \t\t101111\n",
      "7)\n",
      "\tChecking the 3rd bit in 111101\n",
      " \t\tTrue\n",
      "8)\n",
      "\tConverting 111101 to a base representation\n",
      " \t\t[ 0.5  0.5  0.5  0.5 -0.5  0.5] : <class 'jaxlib.xla_extension.ArrayImpl'>\n",
      "9)\n",
      "\tConverting the base representation back to an integer\n",
      " \t\t61\n",
      "10)\n",
      "\tFlipping all bits in 111101\n",
      " \t\t000010\n",
      "11)\n",
      "\tFlipping the 3rd bit in 111101 (from the right)\n",
      " \t\t111001\n",
      "12)\n",
      "\tFlipping the 3rd bit in [ 0.5  0.5  0.5  0.5 -0.5  0.5]\n",
      " \t\t[ 0.5  0.5 -0.5  0.5 -0.5  0.5]\n"
     ]
    }
   ],
   "source": [
    "from common import BinaryMod\n",
    "\n",
    "BinaryMod.test_binary_functions(size = 6)"
   ]
  },
  {
   "cell_type": "code",
   "execution_count": null,
   "metadata": {},
   "outputs": [],
   "source": []
  }
 ],
 "metadata": {
  "kernelspec": {
   "display_name": "base",
   "language": "python",
   "name": "python3"
  },
  "language_info": {
   "codemirror_mode": {
    "name": "ipython",
    "version": 3
   },
   "file_extension": ".py",
   "mimetype": "text/x-python",
   "name": "python",
   "nbconvert_exporter": "python",
   "pygments_lexer": "ipython3",
   "version": "3.11.5"
  }
 },
 "nbformat": 4,
 "nbformat_minor": 2
}
