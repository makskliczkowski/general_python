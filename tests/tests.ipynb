{
 "cells": [
  {
   "cell_type": "code",
   "execution_count": 1,
   "metadata": {},
   "outputs": [],
   "source": [
    "import os\n",
    "import sys\n",
    "sys.path.append('..')\n",
    "import common"
   ]
  },
  {
   "cell_type": "markdown",
   "metadata": {},
   "source": [
    "# Binary \n",
    "\n",
    "The `BinaryMod` module contains functions related to binary operations. The `test_binary_functions()` method tests the following functionalities:\n",
    "- Conversion of integers to binary strings\n",
    "- Conversion of binary strings to integers\n",
    "- Bitwise operations such as AND, OR, XOR, and NOT\n",
    "- Shifting operations (left shift and right shift)"
   ]
  },
  {
   "cell_type": "code",
   "execution_count": 3,
   "metadata": {},
   "outputs": [
    {
     "name": "stdout",
     "output_type": "stream",
     "text": [
      "==================================================\n",
      "             TESTING BINARY FUNCTIONS             \n",
      "==================================================\n",
      "Random integer n = 30 (binary: 011110)\n",
      "--------------------------------------------------\n",
      "Test 1: Extract bits using mask\n",
      "  Input n    : 011110\n",
      "  Mask       : 001011\n",
      "  Extracted  : 000110 (6)\n",
      "  Time       : 0.000002 seconds\n",
      "--------------------------------------------------\n",
      "Test 2: Extract leftmost and rightmost 4 bits\n",
      "  Input n         : 011110\n",
      "  Leftmost 4 bits : 0111\n",
      "  Rightmost 4 bits: 1110\n",
      "  Time            : 0.000001 seconds\n",
      "--------------------------------------------------\n",
      "Test 3: Prepare mask from positions\n",
      "  Positions          : [0, 1, 3]\n",
      "  Prepared Mask (4b) : 1101\n",
      "  Time               : 0.000001 seconds\n",
      "--------------------------------------------------\n",
      "Test 4: Prepare inverted mask from positions\n",
      "  Positions             : [0, 1, 3]\n",
      "  Inverted Mask (4 bits): 1011\n",
      "  Time                  : 0.000000 seconds\n",
      "--------------------------------------------------\n",
      "Test 5: Check if n is a power of two\n",
      "  Input n : 011110\n",
      "  Result  : False\n",
      "  Time    : 0.000000 seconds\n",
      "--------------------------------------------------\n",
      "Test 6: Reverse the bits\n",
      "  Input n  : 011110\n",
      "  Reversed : 011110\n",
      "  Time     : 0.000003 seconds\n",
      "--------------------------------------------------\n",
      "Test 7: Check specific bit\n",
      "  Input n          : 011110\n",
      "  Bit position (0-indexed from right): 2\n",
      "  Bit value        : True\n",
      "  Time             : 0.000002 seconds\n",
      "--------------------------------------------------\n",
      "Test 8: Convert integer to base representation\n",
      "  Input n           : 011110\n",
      "  Base representation: [0 1 1 1 1 0] (type: <class 'jaxlib.xla_extension.ArrayImpl'>)\n",
      "  Time              : 0.020845 seconds\n",
      "--------------------------------------------------\n",
      "Test 9: Convert base representation back to integer\n",
      "  Base representation : [0 1 1 1 1 0]\n",
      "  Recovered integer : 30\n",
      "  Time              : 0.031159 seconds\n",
      "--------------------------------------------------\n",
      "Test 10: Flip all bits\n",
      "  Input n : 011110\n",
      "  Flipped : 100001\n",
      "  Time    : 0.000002 seconds\n",
      "--------------------------------------------------\n",
      "Test 11: Flip a specific bit in integer\n",
      "  Input n           : 011110\n",
      "  Flipped bit at pos: 2 -> 011010\n",
      "  Time              : 0.000002 seconds\n",
      "--------------------------------------------------\n",
      "Test 12: Flip a specific bit in base representation\n",
      "  Input base rep    : [0 1 1 1 1 0]\n",
      "  Flipped bit at pos: 2 -> [ 0  1 -1  1  1  0]\n",
      "  Time              : 0.054616 seconds\n",
      "--------------------------------------------------\n",
      "Test 13: Rotate left (integer)\n",
      "  Input n       : 011110\n",
      "  Rotated left  : 111100\n",
      "  Time          : 0.000002 seconds\n",
      "--------------------------------------------------\n",
      "Test 14: Rotate left (base representation)\n",
      "  Input base rep: [0 1 1 1 1 0]\n",
      "  Rotated left  : [1 1 1 1 0 0]\n",
      "  Time          : 0.030357 seconds\n",
      "--------------------------------------------------\n",
      "Test 15: Rotate right (integer)\n",
      "  Input n        : 011110\n",
      "  Rotated right  : 001111\n",
      "  Time           : 0.000002 seconds\n",
      "--------------------------------------------------\n",
      "Test 16: Rotate right (base representation)\n",
      "  Input base rep : [0 1 1 1 1 0]\n",
      "  Rotated right  : [0 0 1 1 1 1]\n",
      "  Time           : 0.021608 seconds\n",
      "--------------------------------------------------\n",
      "==================================================\n",
      "Total testing time: 0.160113 seconds\n",
      "==================================================\n"
     ]
    }
   ],
   "source": [
    "from common import BinaryMod\n",
    "\n",
    "# Test the binary functions\n",
    "BinaryMod.test_binary_functions(size = 6, spin = False)"
   ]
  },
  {
   "cell_type": "code",
   "execution_count": null,
   "metadata": {},
   "outputs": [],
   "source": []
  },
  {
   "cell_type": "code",
   "execution_count": null,
   "metadata": {},
   "outputs": [],
   "source": []
  }
 ],
 "metadata": {
  "kernelspec": {
   "display_name": "base",
   "language": "python",
   "name": "python3"
  },
  "language_info": {
   "codemirror_mode": {
    "name": "ipython",
    "version": 3
   },
   "file_extension": ".py",
   "mimetype": "text/x-python",
   "name": "python",
   "nbconvert_exporter": "python",
   "pygments_lexer": "ipython3",
   "version": "3.11.5"
  }
 },
 "nbformat": 4,
 "nbformat_minor": 2
}
